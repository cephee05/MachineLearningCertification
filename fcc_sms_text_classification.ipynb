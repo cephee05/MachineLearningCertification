{
  "cells": [
    {
      "cell_type": "markdown",
      "metadata": {
        "id": "view-in-github",
        "colab_type": "text"
      },
      "source": [
        "<a href=\"https://colab.research.google.com/github/cephee05/MachineLearningCertification/blob/main/fcc_sms_text_classification.ipynb\" target=\"_parent\"><img src=\"https://colab.research.google.com/assets/colab-badge.svg\" alt=\"Open In Colab\"/></a>"
      ]
    },
    {
      "cell_type": "code",
      "execution_count": null,
      "metadata": {
        "id": "8RZOuS9LWQvv"
      },
      "outputs": [],
      "source": [
        "# import libraries\n",
        "try:\n",
        "  # %tensorflow_version only exists in Colab.\n",
        "  !pip install tf-nightly\n",
        "except Exception:\n",
        "  pass\n",
        "import tensorflow as tf\n",
        "import pandas as pd\n",
        "from tensorflow import keras\n",
        "!pip install tensorflow-datasets\n",
        "import tensorflow_datasets as tfds\n",
        "import numpy as np\n",
        "import matplotlib.pyplot as plt\n",
        "\n",
        "print(tf.__version__)"
      ]
    },
    {
      "cell_type": "code",
      "execution_count": null,
      "metadata": {
        "id": "lMHwYXHXCar3"
      },
      "outputs": [],
      "source": [
        "# get data files\n",
        "!wget https://cdn.freecodecamp.org/project-data/sms/train-data.tsv\n",
        "!wget https://cdn.freecodecamp.org/project-data/sms/valid-data.tsv\n",
        "\n",
        "train_file_path = \"train-data.tsv\"\n",
        "test_file_path = \"valid-data.tsv\""
      ]
    },
    {
      "cell_type": "code",
      "execution_count": null,
      "metadata": {
        "id": "g_h508FEClxO"
      },
      "outputs": [],
      "source": [
        "import tensorflow as tf\n",
        "from tensorflow.keras import layers\n",
        "from tensorflow.keras.layers import TextVectorization\n",
        "\n",
        "# Charger les données d'entraînement\n",
        "train_ds = tf.data.TextLineDataset(\"train-data.tsv\")\n",
        "test_ds = tf.data.TextLineDataset(\"valid-data.tsv\")\n",
        "\n",
        "# Retirer l'en-tête\n",
        "train_lines = train_ds.skip(1)\n",
        "test_lines = test_ds.skip(1)\n",
        "\n",
        "# Fonction pour transformer chaque ligne en (texte, label)\n",
        "def parse_line(line):\n",
        "    parts = tf.strings.split(line, \"\\t\")\n",
        "    label = tf.where(parts[0] == \"spam\", 1, 0)\n",
        "    text = parts[1]\n",
        "    return text, label\n",
        "\n",
        "train_data = train_lines.map(parse_line)\n",
        "test_data = test_lines.map(parse_line)\n",
        "\n",
        "# Mettre en batch et buffer\n",
        "train_data = train_data.shuffle(1000).batch(32)\n",
        "test_data = test_data.batch(32)\n",
        "\n",
        "# Créer le vectorizer\n",
        "vectorizer = TextVectorization(max_tokens=1000, output_mode='tf-idf')\n",
        "vectorizer.adapt(train_data.map(lambda text, label: text))\n",
        "\n",
        "# Créer le modèle\n",
        "model = tf.keras.Sequential([\n",
        "    vectorizer,\n",
        "    layers.Dense(64, activation='relu'),\n",
        "    layers.Dense(1, activation='sigmoid')  # proba entre 0 et 1\n",
        "])\n",
        "\n",
        "model.compile(optimizer='adam', loss='binary_crossentropy', metrics=['accuracy'])\n",
        "model.fit(train_data, epochs=5)\n",
        "\n",
        "# Fonction demandée\n",
        "def predict_message(pred_text):\n",
        "    prob = model.predict([pred_text])[0][0]\n",
        "    label = \"spam\" if prob > 0.5 else \"ham\"\n",
        "    return [float(prob), label]\n"
      ]
    },
    {
      "cell_type": "code",
      "execution_count": null,
      "metadata": {
        "id": "zOMKywn4zReN"
      },
      "outputs": [],
      "source": []
    },
    {
      "cell_type": "code",
      "execution_count": null,
      "metadata": {
        "id": "J9tD9yACG6M9"
      },
      "outputs": [],
      "source": [
        "# function to predict messages based on model\n",
        "# (should return list containing prediction and label, ex. [0.008318834938108921, 'ham'])\n",
        "def predict_message(pred_text):\n",
        "    # Convertir en tenseur pour que TensorFlow accepte l'entrée\n",
        "    input_text = tf.constant([pred_text])\n",
        "\n",
        "    prob = model.predict(input_text)[0][0]\n",
        "    label = \"spam\" if prob > 0.5 else \"ham\"\n",
        "    return [float(prob), label]\n",
        "\n",
        "# Tester avec un message\n",
        "pred_text = \"how are you doing today?\"\n",
        "prediction = predict_message(pred_text)\n",
        "print(prediction)\n"
      ]
    },
    {
      "cell_type": "code",
      "execution_count": null,
      "metadata": {
        "id": "Dxotov85SjsC"
      },
      "outputs": [],
      "source": [
        "# Run this cell to test your function and model. Do not modify contents.\n",
        "def test_predictions():\n",
        "  test_messages = [\"how are you doing today\",\n",
        "                   \"sale today! to stop texts call 98912460324\",\n",
        "                   \"i dont want to go. can we try it a different day? available sat\",\n",
        "                   \"our new mobile video service is live. just install on your phone to start watching.\",\n",
        "                   \"you have won £1000 cash! call to claim your prize.\",\n",
        "                   \"i'll bring it tomorrow. don't forget the milk.\",\n",
        "                   \"wow, is your arm alright. that happened to me one time too\"\n",
        "                  ]\n",
        "\n",
        "  test_answers = [\"ham\", \"spam\", \"ham\", \"spam\", \"spam\", \"ham\", \"ham\"]\n",
        "  passed = True\n",
        "\n",
        "  for msg, ans in zip(test_messages, test_answers):\n",
        "    prediction = predict_message(msg)\n",
        "    if prediction[1] != ans:\n",
        "      passed = False\n",
        "\n",
        "  if passed:\n",
        "    print(\"You passed the challenge. Great job!\")\n",
        "  else:\n",
        "    print(\"You haven't passed yet. Keep trying.\")\n",
        "\n",
        "test_predictions()\n"
      ]
    }
  ],
  "metadata": {
    "colab": {
      "name": "fcc_sms_text_classification.ipynb",
      "private_outputs": true,
      "provenance": [],
      "include_colab_link": true
    },
    "kernelspec": {
  "name": "python3",
  "display_name": "Python 3",
  "language": "python"
},
    "language_info": {}
  },
  "nbformat": 4,
  "nbformat_minor": 0
}
